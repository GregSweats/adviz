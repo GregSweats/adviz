{
 "cells": [
  {
   "cell_type": "raw",
   "metadata": {},
   "source": [
    "---\n",
    "listing: default\n",
    "---"
   ]
  },
  {
   "cell_type": "markdown",
   "metadata": {},
   "source": [
    "# adviz\n",
    "\n",
    "> `adv`ertools `vis`ualizations: `adviz`"
   ]
  },
  {
   "cell_type": "markdown",
   "metadata": {},
   "source": [
    "## About\n",
    "\n",
    "[`advertools`](https://github.com/eliasdabbas/advertools) is a package for the search (SEO/SEM) and digital marketing practitioner. It aims to help with various productivity and analysis tools.\n",
    "\n",
    "Part of the analysis process is producing specialized charts that tend to come up all the time. So, `adviz` aims to be a collection of charts that can help `advertools` users. Many of the charts can be used for many other workflows, and are not marketing-specific. Feel free to use, share, and suggest features for any of them.\n",
    "\n",
    "Get started quickly and see examples below:"
   ]
  },
  {
   "cell_type": "markdown",
   "metadata": {},
   "source": [
    "## Install"
   ]
  },
  {
   "cell_type": "markdown",
   "metadata": {},
   "source": [
    "```bash\n",
    "python3 -m pip install adviz\n",
    "```"
   ]
  },
  {
   "cell_type": "markdown",
   "metadata": {},
   "source": [
    "## Explore the available visualizations"
   ]
  }
 ],
 "metadata": {
  "kernelspec": {
   "display_name": "python3",
   "language": "python",
   "name": "python3"
  },
  "widgets": {
   "application/vnd.jupyter.widget-state+json": {
    "state": {},
    "version_major": 2,
    "version_minor": 0
   }
  }
 },
 "nbformat": 4,
 "nbformat_minor": 4
}
