{
 "cells": [
  {
   "cell_type": "raw",
   "id": "629dc903-8141-462e-94a1-84fa341e155e",
   "metadata": {},
   "source": [
    "---\n",
    "title: \"Listing Example\"\n",
    "listing: default\n",
    "---"
   ]
  },
  {
   "cell_type": "markdown",
   "id": "1f9adb75-2126-44ac-afe0-5fa556499b21",
   "metadata": {},
   "source": [
    "# `adviz`\n",
    "\n",
    "> `adv`ertools data`viz`ualizations\n",
    "\n",
    "### Explore the various charts available"
   ]
  }
 ],
 "metadata": {
  "kernelspec": {
   "display_name": "python3",
   "language": "python",
   "name": "python3"
  }
 },
 "nbformat": 4,
 "nbformat_minor": 5
}
